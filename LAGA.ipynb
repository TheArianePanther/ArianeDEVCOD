{
  "nbformat": 4,
  "nbformat_minor": 0,
  "metadata": {
    "colab": {
      "provenance": [],
      "authorship_tag": "ABX9TyOfk2eZG/u3BLC8LHij0gJA",
      "include_colab_link": true
    },
    "kernelspec": {
      "name": "python3",
      "display_name": "Python 3"
    },
    "language_info": {
      "name": "python"
    }
  },
  "cells": [
    {
      "cell_type": "markdown",
      "metadata": {
        "id": "view-in-github",
        "colab_type": "text"
      },
      "source": [
        "<a href=\"https://colab.research.google.com/github/TheArianePanther/ArianeDEVCOD/blob/main/LAGA.ipynb\" target=\"_parent\"><img src=\"https://colab.research.google.com/assets/colab-badge.svg\" alt=\"Open In Colab\"/></a>"
      ]
    },
    {
      "cell_type": "code",
      "source": [
        "import time\n",
        "import random\n",
        "\n",
        "def verificar_maos_no_volante():\n",
        "    # Simulação de verificação das mãos no volante\n",
        "    # Aqui você pode inserir a lógica real para verificar se as mãos estão no volante\n",
        "    # Vou simular aleatoriamente para fins de demonstração\n",
        "    return random.choice([True, False])  # Retorna True se as mãos estiverem no volante, False caso contrário\n",
        "\n",
        "def emitir_alerta():\n",
        "    print(\"\\033[91mALERTA: Motorista sem as mãos no volante!\\033[0m\")\n",
        "\n",
        "def simular_verificacao():\n",
        "    while True:\n",
        "        if verificar_maos_no_volante():\n",
        "            print(\"Motorista com as mãos no volante.\")\n",
        "        else:\n",
        "            emitir_alerta()\n",
        "        time.sleep(2)  # Aguarda 2 segundos antes de verificar novamente\n",
        "\n",
        "if __name__ == \"__main__\":\n",
        "    simular_verificacao()\n"
      ],
      "metadata": {
        "colab": {
          "base_uri": "https://localhost:8080/"
        },
        "id": "6iwUgsPUsVES",
        "outputId": "2627ffc0-7df7-404d-efb2-2ead000f341d"
      },
      "execution_count": null,
      "outputs": [
        {
          "output_type": "stream",
          "name": "stdout",
          "text": [
            "Motorista com as mãos no volante.\n",
            "Motorista com as mãos no volante.\n",
            "\u001b[91mALERTA: Motorista sem as mãos no volante!\u001b[0m\n",
            "Motorista com as mãos no volante.\n",
            "Motorista com as mãos no volante.\n",
            "Motorista com as mãos no volante.\n",
            "\u001b[91mALERTA: Motorista sem as mãos no volante!\u001b[0m\n",
            "\u001b[91mALERTA: Motorista sem as mãos no volante!\u001b[0m\n",
            "Motorista com as mãos no volante.\n",
            "\u001b[91mALERTA: Motorista sem as mãos no volante!\u001b[0m\n",
            "\u001b[91mALERTA: Motorista sem as mãos no volante!\u001b[0m\n",
            "Motorista com as mãos no volante.\n",
            "\u001b[91mALERTA: Motorista sem as mãos no volante!\u001b[0m\n",
            "Motorista com as mãos no volante.\n",
            "Motorista com as mãos no volante.\n",
            "\u001b[91mALERTA: Motorista sem as mãos no volante!\u001b[0m\n",
            "\u001b[91mALERTA: Motorista sem as mãos no volante!\u001b[0m\n",
            "\u001b[91mALERTA: Motorista sem as mãos no volante!\u001b[0m\n",
            "\u001b[91mALERTA: Motorista sem as mãos no volante!\u001b[0m\n",
            "\u001b[91mALERTA: Motorista sem as mãos no volante!\u001b[0m\n",
            "\u001b[91mALERTA: Motorista sem as mãos no volante!\u001b[0m\n",
            "\u001b[91mALERTA: Motorista sem as mãos no volante!\u001b[0m\n",
            "\u001b[91mALERTA: Motorista sem as mãos no volante!\u001b[0m\n",
            "Motorista com as mãos no volante.\n",
            "\u001b[91mALERTA: Motorista sem as mãos no volante!\u001b[0m\n",
            "Motorista com as mãos no volante.\n",
            "Motorista com as mãos no volante.\n",
            "\u001b[91mALERTA: Motorista sem as mãos no volante!\u001b[0m\n",
            "Motorista com as mãos no volante.\n",
            "Motorista com as mãos no volante.\n",
            "Motorista com as mãos no volante.\n",
            "\u001b[91mALERTA: Motorista sem as mãos no volante!\u001b[0m\n",
            "Motorista com as mãos no volante.\n",
            "Motorista com as mãos no volante.\n",
            "\u001b[91mALERTA: Motorista sem as mãos no volante!\u001b[0m\n",
            "\u001b[91mALERTA: Motorista sem as mãos no volante!\u001b[0m\n",
            "\u001b[91mALERTA: Motorista sem as mãos no volante!\u001b[0m\n",
            "\u001b[91mALERTA: Motorista sem as mãos no volante!\u001b[0m\n",
            "Motorista com as mãos no volante.\n",
            "\u001b[91mALERTA: Motorista sem as mãos no volante!\u001b[0m\n",
            "Motorista com as mãos no volante.\n",
            "Motorista com as mãos no volante.\n",
            "Motorista com as mãos no volante.\n",
            "Motorista com as mãos no volante.\n",
            "\u001b[91mALERTA: Motorista sem as mãos no volante!\u001b[0m\n",
            "\u001b[91mALERTA: Motorista sem as mãos no volante!\u001b[0m\n",
            "Motorista com as mãos no volante.\n",
            "Motorista com as mãos no volante.\n",
            "Motorista com as mãos no volante.\n",
            "\u001b[91mALERTA: Motorista sem as mãos no volante!\u001b[0m\n",
            "Motorista com as mãos no volante.\n",
            "\u001b[91mALERTA: Motorista sem as mãos no volante!\u001b[0m\n",
            "\u001b[91mALERTA: Motorista sem as mãos no volante!\u001b[0m\n",
            "\u001b[91mALERTA: Motorista sem as mãos no volante!\u001b[0m\n",
            "Motorista com as mãos no volante.\n",
            "Motorista com as mãos no volante.\n",
            "\u001b[91mALERTA: Motorista sem as mãos no volante!\u001b[0m\n",
            "Motorista com as mãos no volante.\n",
            "Motorista com as mãos no volante.\n",
            "Motorista com as mãos no volante.\n",
            "Motorista com as mãos no volante.\n",
            "Motorista com as mãos no volante.\n",
            "Motorista com as mãos no volante.\n",
            "\u001b[91mALERTA: Motorista sem as mãos no volante!\u001b[0m\n",
            "\u001b[91mALERTA: Motorista sem as mãos no volante!\u001b[0m\n",
            "\u001b[91mALERTA: Motorista sem as mãos no volante!\u001b[0m\n",
            "\u001b[91mALERTA: Motorista sem as mãos no volante!\u001b[0m\n",
            "Motorista com as mãos no volante.\n",
            "Motorista com as mãos no volante.\n",
            "\u001b[91mALERTA: Motorista sem as mãos no volante!\u001b[0m\n",
            "\u001b[91mALERTA: Motorista sem as mãos no volante!\u001b[0m\n",
            "Motorista com as mãos no volante.\n",
            "\u001b[91mALERTA: Motorista sem as mãos no volante!\u001b[0m\n",
            "Motorista com as mãos no volante.\n",
            "\u001b[91mALERTA: Motorista sem as mãos no volante!\u001b[0m\n",
            "\u001b[91mALERTA: Motorista sem as mãos no volante!\u001b[0m\n",
            "\u001b[91mALERTA: Motorista sem as mãos no volante!\u001b[0m\n"
          ]
        }
      ]
    }
  ]
}